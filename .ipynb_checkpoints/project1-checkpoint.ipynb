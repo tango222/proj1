{
 "cells": [
  {
   "cell_type": "markdown",
   "metadata": {},
   "source": [
    "# Discharge Notes Analysis\n",
    "### with Olivia Tang and Brian Jhong\n",
    "### BIME 498\n",
    "### University of Washington"
   ]
  },
  {
   "cell_type": "code",
   "execution_count": 8,
   "metadata": {},
   "outputs": [],
   "source": [
    "#import libraries\n",
    "import glob\n",
    "import pandas as pd\n",
    "import numpy as np \n",
    "import re\n",
    "from collections import Counter"
   ]
  },
  {
   "cell_type": "markdown",
   "metadata": {},
   "source": [
    " ## (2) Analysis: \n",
    "\n",
    "A challenge for analysis of clinical data is that much of the data is in free text as in these notes. Thus, although there is a well-recognized standard terminology for coding of diagnosis and conditions (ICD-10), it can be challenging for a computer (or sometimes a human) to understand what diagnoses the patient has at time of discharge. Your \"simple\" analysis task, is to search through all of the discharge summaries of all of your patients (recall that not all patients have such a summary) and search for the terms following \"discharge diagnosis\". (If the patient dies in the hospital, there are no discharge diagnoses.) Then, produce a table that lists the most common discharge diagnoses among your patients. (E.g. \"Congestive heart failure -- 10 patients; Diabetes mellitus: 7 patients.....\"). Also include number of patients with discharge diagnoses, and the average number of diagnoses per patient.  For the highest grade, try to find and recognize some synonyms (e.g. \"afib\" is the same as \"atrial fibrillation\"). \n",
    "\n",
    "This analysis is a simple initial example of the sort of data analysis you will do in project 2. To help you learn the technologies for project 2, I am asking that you carry out this analysis with Python using Jupyter notebooks. We recommend that you install Anaconda as the easiest way to use both Jupyter and Python.  If you'd prefer to use R for project 1, that's okay, but project 2 will require Python. "
   ]
  },
  {
   "cell_type": "code",
   "execution_count": 46,
   "metadata": {},
   "outputs": [
    {
     "data": {
      "text/plain": [
       "153"
      ]
     },
     "execution_count": 46,
     "metadata": {},
     "output_type": "execute_result"
    }
   ],
   "source": [
    "#get list of all .txt files\n",
    "files = glob.glob('./DischargeNotes-24/*txt')\n",
    "#get number of files: 153\n",
    "len(files)"
   ]
  },
  {
   "cell_type": "code",
   "execution_count": 47,
   "metadata": {},
   "outputs": [],
   "source": [
    "#master list\n",
    "diagnoses = []\n",
    "#avg count of diagnoses per file\n",
    "avgdiag = []\n",
    "stripchars = '0123456789.'\n",
    "for file in files:\n",
    "    with open(file, \"r\") as f:\n",
    "        copy = False\n",
    "        diag = []\n",
    "        for line in f: ##line cleaning before inserting into list\n",
    "            line = line.strip()\n",
    "            line = line.lstrip(stripchars)\n",
    "            line = line.strip()\n",
    "            line = line.lower()\n",
    "            line = re.sub(\"[\\(\\[].*?[\\)\\]]\", '', line)\n",
    "            line = re.sub('\\s.*\\]', '', line)\n",
    "            line = line.strip()\n",
    "            if line == \"discharge diagnosis:\":\n",
    "                copy = True\n",
    "            elif not line:\n",
    "                copy = False\n",
    "            elif line == \"discharge condition:\":\n",
    "                copy = False\n",
    "            elif copy:\n",
    "                if not (line.startswith('primary') or line.startswith('secondary') or line == 'na' or line.startswith('[')):\n",
    "                    diag.append(line)\n",
    "                elif(line.startswith('primary:')):\n",
    "                    line = line.replace('primary:', '') \n",
    "                    if not line == '':\n",
    "                        diag.append(line)\n",
    "                elif(line.startswith('primary diagnoses:')):\n",
    "                    line = line.replace('primary diagnoses:', '')\n",
    "                    if not line == '':\n",
    "                        diag.append(line)\n",
    "                elif(line.startswith('secondary:')):\n",
    "                    line = line.replace('secondary:', '')\n",
    "                    if not line == '':\n",
    "                        diag.append(line)       \n",
    "        diagnoses.extend(diag)\n",
    "        avgdiag.append(len(diag))\n",
    "            "
   ]
  },
  {
   "cell_type": "code",
   "execution_count": 9,
   "metadata": {},
   "outputs": [
    {
     "data": {
      "text/plain": [
       "254"
      ]
     },
     "execution_count": 9,
     "metadata": {},
     "output_type": "execute_result"
    }
   ],
   "source": [
    "len(diagnoses)"
   ]
  },
  {
   "cell_type": "code",
   "execution_count": 10,
   "metadata": {},
   "outputs": [],
   "source": [
    "#convert to np array\n",
    "np_diag = np.array(diagnoses)"
   ]
  },
  {
   "cell_type": "code",
   "execution_count": 15,
   "metadata": {},
   "outputs": [],
   "source": [
    "#used numpy unique to filter same diagnoses\n",
    "uniquediag = np.unique(np_diag)"
   ]
  },
  {
   "cell_type": "code",
   "execution_count": 20,
   "metadata": {},
   "outputs": [],
   "source": [
    "#got rid of whitespace in front and behind\n",
    "for i in range(len(uniquediag)):\n",
    "    uniquediag[i] = uniquediag[i].strip()"
   ]
  },
  {
   "cell_type": "markdown",
   "metadata": {},
   "source": [
    "## Manual Sorting and Filtering\n",
    "We wrote diagnoses data and unique diagnoses into two seperate .txt files for manual sorting and filtering (We later found that it was easier to simply go through the diagnoses list). We made the executive decision to do so because the representation of each diagnosis in each discharge note varied--some lines of the discharge diagnoses had several diagnoses on each line, some diagnoses were misspelled and many of the diagnoses were specified with 'right', 'left', 'acute', 'chronic', 'prior', 's/p' terms which although are important in a stand-alone diagnosis, are less valuable for statistical analysis of multiple diagnoses for multiple patients. \n",
    "\n",
    "**General Edits**\n",
    "* We simplfied diagnoses like 'right subarachnoid hemorrhage/intrparenchymal hemorrhage' in favor for hemorrhage; 'left rib fracture' was simplified to rib fracture\n",
    "* generalized all cancers --lymphoma,carcinoma,leukemia\n",
    "* some diagnoses were multifactoral (i.e. 'multifocal aspiration pneumonia with sepsis' to 'pneumonia' and 'sepsis')\n",
    "* some diagnoses included explaination for diagnosis such as 'history of falls' for 'senile dementia' so history of falls was not included.\n",
    "* abbreviations like 'htn' were written as 'hypertension' for more clarity, the only diagnoses that were left as abbreviations were 'uti' and 'a-fib'\n",
    "* all representation of diabetes was shorten to 'diabetes'"
   ]
  },
  {
   "cell_type": "code",
   "execution_count": 13,
   "metadata": {},
   "outputs": [],
   "source": [
    "f= open(\"diagnoses.txt\",\"w+\")\n",
    "for d in diagnoses:\n",
    "     f.write(d + '\\n')\n",
    "f.close() "
   ]
  },
  {
   "cell_type": "code",
   "execution_count": 22,
   "metadata": {},
   "outputs": [],
   "source": [
    "f= open(\"uniquediag.txt\",\"w+\")\n",
    "for d in uniquediag:\n",
    "     f.write(d + '\\n')\n",
    "f.close() "
   ]
  },
  {
   "cell_type": "code",
   "execution_count": 41,
   "metadata": {},
   "outputs": [],
   "source": [
    "# write final txt file back in\n",
    "finaldiagnoses = []\n",
    "with open('finaldiagnoses.txt', \"r\") as f:\n",
    "    for line in f:\n",
    "        line = line.lower()\n",
    "        finaldiagnoses.append(line.strip())"
   ]
  },
  {
   "cell_type": "code",
   "execution_count": 42,
   "metadata": {},
   "outputs": [],
   "source": [
    "#finds unique diagnoses in keys and stores counts in values\n",
    "keys = list(Counter(finaldiagnoses).keys())\n",
    "values = list(Counter(finaldiagnoses).values())"
   ]
  },
  {
   "cell_type": "code",
   "execution_count": 43,
   "metadata": {},
   "outputs": [],
   "source": [
    "#write keys and values to df\n",
    "df = pd.DataFrame({'diagnosis': keys, 'counts': values})\n",
    "df = df.sort_values(by = 'counts', ascending=False)"
   ]
  },
  {
   "cell_type": "code",
   "execution_count": 45,
   "metadata": {},
   "outputs": [
    {
     "data": {
      "text/html": [
       "<div>\n",
       "<style scoped>\n",
       "    .dataframe tbody tr th:only-of-type {\n",
       "        vertical-align: middle;\n",
       "    }\n",
       "\n",
       "    .dataframe tbody tr th {\n",
       "        vertical-align: top;\n",
       "    }\n",
       "\n",
       "    .dataframe thead th {\n",
       "        text-align: right;\n",
       "    }\n",
       "</style>\n",
       "<table border=\"1\" class=\"dataframe\">\n",
       "  <thead>\n",
       "    <tr style=\"text-align: right;\">\n",
       "      <th></th>\n",
       "      <th>diagnosis</th>\n",
       "      <th>counts</th>\n",
       "    </tr>\n",
       "  </thead>\n",
       "  <tbody>\n",
       "    <tr>\n",
       "      <th>8</th>\n",
       "      <td>hypertension</td>\n",
       "      <td>11</td>\n",
       "    </tr>\n",
       "    <tr>\n",
       "      <th>39</th>\n",
       "      <td>uti</td>\n",
       "      <td>10</td>\n",
       "    </tr>\n",
       "    <tr>\n",
       "      <th>19</th>\n",
       "      <td>pneumonia</td>\n",
       "      <td>7</td>\n",
       "    </tr>\n",
       "    <tr>\n",
       "      <th>44</th>\n",
       "      <td>cancer</td>\n",
       "      <td>7</td>\n",
       "    </tr>\n",
       "    <tr>\n",
       "      <th>3</th>\n",
       "      <td>respiratory failure</td>\n",
       "      <td>7</td>\n",
       "    </tr>\n",
       "    <tr>\n",
       "      <th>4</th>\n",
       "      <td>coronary artery disease</td>\n",
       "      <td>7</td>\n",
       "    </tr>\n",
       "    <tr>\n",
       "      <th>42</th>\n",
       "      <td>a-fib</td>\n",
       "      <td>7</td>\n",
       "    </tr>\n",
       "    <tr>\n",
       "      <th>85</th>\n",
       "      <td>congestive heart failure</td>\n",
       "      <td>6</td>\n",
       "    </tr>\n",
       "    <tr>\n",
       "      <th>24</th>\n",
       "      <td>myocardial infarction</td>\n",
       "      <td>6</td>\n",
       "    </tr>\n",
       "    <tr>\n",
       "      <th>14</th>\n",
       "      <td>diabetes</td>\n",
       "      <td>5</td>\n",
       "    </tr>\n",
       "    <tr>\n",
       "      <th>28</th>\n",
       "      <td>hemorrhage</td>\n",
       "      <td>5</td>\n",
       "    </tr>\n",
       "    <tr>\n",
       "      <th>16</th>\n",
       "      <td>anemia</td>\n",
       "      <td>4</td>\n",
       "    </tr>\n",
       "    <tr>\n",
       "      <th>32</th>\n",
       "      <td>nstemi</td>\n",
       "      <td>4</td>\n",
       "    </tr>\n",
       "    <tr>\n",
       "      <th>54</th>\n",
       "      <td>hypothyroidism</td>\n",
       "      <td>4</td>\n",
       "    </tr>\n",
       "    <tr>\n",
       "      <th>119</th>\n",
       "      <td>deceased</td>\n",
       "      <td>4</td>\n",
       "    </tr>\n",
       "    <tr>\n",
       "      <th>2</th>\n",
       "      <td>acute renal failure</td>\n",
       "      <td>4</td>\n",
       "    </tr>\n",
       "    <tr>\n",
       "      <th>1</th>\n",
       "      <td>sepsis</td>\n",
       "      <td>4</td>\n",
       "    </tr>\n",
       "    <tr>\n",
       "      <th>78</th>\n",
       "      <td>stroke</td>\n",
       "      <td>3</td>\n",
       "    </tr>\n",
       "    <tr>\n",
       "      <th>84</th>\n",
       "      <td>hypotension</td>\n",
       "      <td>3</td>\n",
       "    </tr>\n",
       "    <tr>\n",
       "      <th>80</th>\n",
       "      <td>dementia</td>\n",
       "      <td>3</td>\n",
       "    </tr>\n",
       "  </tbody>\n",
       "</table>\n",
       "</div>"
      ],
      "text/plain": [
       "                    diagnosis  counts\n",
       "8                hypertension      11\n",
       "39                        uti      10\n",
       "19                  pneumonia       7\n",
       "44                     cancer       7\n",
       "3         respiratory failure       7\n",
       "4     coronary artery disease       7\n",
       "42                      a-fib       7\n",
       "85   congestive heart failure       6\n",
       "24      myocardial infarction       6\n",
       "14                   diabetes       5\n",
       "28                 hemorrhage       5\n",
       "16                     anemia       4\n",
       "32                     nstemi       4\n",
       "54             hypothyroidism       4\n",
       "119                  deceased       4\n",
       "2         acute renal failure       4\n",
       "1                      sepsis       4\n",
       "78                     stroke       3\n",
       "84                hypotension       3\n",
       "80                   dementia       3"
      ]
     },
     "execution_count": 45,
     "metadata": {},
     "output_type": "execute_result"
    }
   ],
   "source": [
    "#lists top 20 values\n",
    "df.head(20)"
   ]
  },
  {
   "cell_type": "code",
   "execution_count": 50,
   "metadata": {},
   "outputs": [],
   "source": [
    "avgdiag = np.array(avgdiag)"
   ]
  },
  {
   "cell_type": "code",
   "execution_count": 57,
   "metadata": {},
   "outputs": [
    {
     "data": {
      "text/plain": [
       "153"
      ]
     },
     "execution_count": 57,
     "metadata": {},
     "output_type": "execute_result"
    }
   ],
   "source": [
    "len(avgdiag)"
   ]
  },
  {
   "cell_type": "code",
   "execution_count": 53,
   "metadata": {},
   "outputs": [],
   "source": [
    "#count of patients wo diagnoses\n",
    "unique, counts = np.unique(avgdiag, return_counts=True)"
   ]
  },
  {
   "cell_type": "code",
   "execution_count": 56,
   "metadata": {},
   "outputs": [
    {
     "name": "stdout",
     "output_type": "stream",
     "text": [
      "[ 0  1  2  3  4  5  6  7  9 10 12 13 18]\n",
      "[88 27  4  5  6  6  7  2  2  2  1  2  1]\n"
     ]
    }
   ],
   "source": [
    "print(unique)\n",
    "print(counts) ## 88 patients have no diagnoses 153-88 = 65 patients with diagnoses"
   ]
  },
  {
   "cell_type": "code",
   "execution_count": 58,
   "metadata": {},
   "outputs": [
    {
     "data": {
      "text/plain": [
       "2.8863636363636362"
      ]
     },
     "execution_count": 58,
     "metadata": {},
     "output_type": "execute_result"
    }
   ],
   "source": [
    "#mean diagnoses among patients with diagnoses (88)\n",
    "sum(avgdiag)/88"
   ]
  },
  {
   "cell_type": "code",
   "execution_count": 51,
   "metadata": {},
   "outputs": [
    {
     "data": {
      "text/plain": [
       "1.6601307189542485"
      ]
     },
     "execution_count": 51,
     "metadata": {},
     "output_type": "execute_result"
    }
   ],
   "source": [
    "#mean diagnoses per patient\n",
    "np.mean(avgdiag)"
   ]
  }
 ],
 "metadata": {
  "kernelspec": {
   "display_name": "Python 3",
   "language": "python",
   "name": "python3"
  },
  "language_info": {
   "codemirror_mode": {
    "name": "ipython",
    "version": 3
   },
   "file_extension": ".py",
   "mimetype": "text/x-python",
   "name": "python",
   "nbconvert_exporter": "python",
   "pygments_lexer": "ipython3",
   "version": "3.7.0"
  }
 },
 "nbformat": 4,
 "nbformat_minor": 2
}
