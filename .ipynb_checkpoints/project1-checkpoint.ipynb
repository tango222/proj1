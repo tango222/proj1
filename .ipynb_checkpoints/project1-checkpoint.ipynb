{
 "cells": [
  {
   "cell_type": "code",
   "execution_count": 4,
   "metadata": {},
   "outputs": [],
   "source": [
    "#import libraries\n",
    "import glob\n",
    "import pandas as pd"
   ]
  },
  {
   "cell_type": "markdown",
   "metadata": {},
   "source": [
    " ## (2) Analysis: \n",
    "\n",
    "A challenge for analysis of clinical data is that much of the data is in free text as in these notes. Thus, although there is a well-recognized standard terminology for coding of diagnosis and conditions (ICD-10), it can be challenging for a computer (or sometimes a human) to understand what diagnoses the patient has at time of discharge. Your \"simple\" analysis task, is to search through all of the discharge summaries of all of your patients (recall that not all patients have such a summary) and search for the terms following \"discharge diagnosis\". (If the patient dies in the hospital, there are no discharge diagnoses.) Then, produce a table that lists the most common discharge diagnoses among your patients. (E.g. \"Congestive heart failure -- 10 patients; Diabetes mellitus: 7 patients.....\"). Also include number of patients with discharge diagnoses, and the average number of diagnoses per patient.  For the highest grade, try to find and recognize some synonyms (e.g. \"afib\" is the same as \"atrial fibrillation\"). \n",
    "\n",
    "This analysis is a simple initial example of the sort of data analysis you will do in project 2. To help you learn the technologies for project 2, I am asking that you carry out this analysis with Python using Jupyter notebooks. We recommend that you install Anaconda as the easiest way to use both Jupyter and Python.  If you'd prefer to use R for project 1, that's okay, but project 2 will require Python. "
   ]
  },
  {
   "cell_type": "code",
   "execution_count": 5,
   "metadata": {},
   "outputs": [
    {
     "data": {
      "text/plain": [
       "153"
      ]
     },
     "execution_count": 5,
     "metadata": {},
     "output_type": "execute_result"
    }
   ],
   "source": [
    "#get list of all .txt files\n",
    "files = glob.glob('./DischargeNotes-24/*txt')\n",
    "#get number of files: 153\n",
    "len(files)"
   ]
  },
  {
   "cell_type": "code",
   "execution_count": 3,
   "metadata": {},
   "outputs": [
    {
     "data": {
      "text/plain": [
       "['./DischargeNotes-24\\\\NOTEEVENTS-24019.txt',\n",
       " './DischargeNotes-24\\\\NOTEEVENTS-24021.txt',\n",
       " './DischargeNotes-24\\\\NOTEEVENTS-24031.txt',\n",
       " './DischargeNotes-24\\\\NOTEEVENTS-24032.txt',\n",
       " './DischargeNotes-24\\\\NOTEEVENTS-24040.txt',\n",
       " './DischargeNotes-24\\\\NOTEEVENTS-24042.txt',\n",
       " './DischargeNotes-24\\\\NOTEEVENTS-24043.txt',\n",
       " './DischargeNotes-24\\\\NOTEEVENTS-24045.txt',\n",
       " './DischargeNotes-24\\\\NOTEEVENTS-24049.txt',\n",
       " './DischargeNotes-24\\\\NOTEEVENTS-24064.txt',\n",
       " './DischargeNotes-24\\\\NOTEEVENTS-24065.txt',\n",
       " './DischargeNotes-24\\\\NOTEEVENTS-24071.txt',\n",
       " './DischargeNotes-24\\\\NOTEEVENTS-24074.txt',\n",
       " './DischargeNotes-24\\\\NOTEEVENTS-24076.txt',\n",
       " './DischargeNotes-24\\\\NOTEEVENTS-24082.txt',\n",
       " './DischargeNotes-24\\\\NOTEEVENTS-24091.txt',\n",
       " './DischargeNotes-24\\\\NOTEEVENTS-24092.txt',\n",
       " './DischargeNotes-24\\\\NOTEEVENTS-24101.txt',\n",
       " './DischargeNotes-24\\\\NOTEEVENTS-24102.txt',\n",
       " './DischargeNotes-24\\\\NOTEEVENTS-24110.txt',\n",
       " './DischargeNotes-24\\\\NOTEEVENTS-24115.txt',\n",
       " './DischargeNotes-24\\\\NOTEEVENTS-24128.txt',\n",
       " './DischargeNotes-24\\\\NOTEEVENTS-24135.txt',\n",
       " './DischargeNotes-24\\\\NOTEEVENTS-24137.txt',\n",
       " './DischargeNotes-24\\\\NOTEEVENTS-24141.txt',\n",
       " './DischargeNotes-24\\\\NOTEEVENTS-24143.txt',\n",
       " './DischargeNotes-24\\\\NOTEEVENTS-24161.txt',\n",
       " './DischargeNotes-24\\\\NOTEEVENTS-24181.txt',\n",
       " './DischargeNotes-24\\\\NOTEEVENTS-24185.txt',\n",
       " './DischargeNotes-24\\\\NOTEEVENTS-24190.txt',\n",
       " './DischargeNotes-24\\\\NOTEEVENTS-24198.txt',\n",
       " './DischargeNotes-24\\\\NOTEEVENTS-24214.txt',\n",
       " './DischargeNotes-24\\\\NOTEEVENTS-24223.txt',\n",
       " './DischargeNotes-24\\\\NOTEEVENTS-24224.txt',\n",
       " './DischargeNotes-24\\\\NOTEEVENTS-24234.txt',\n",
       " './DischargeNotes-24\\\\NOTEEVENTS-24248.txt',\n",
       " './DischargeNotes-24\\\\NOTEEVENTS-24252.txt',\n",
       " './DischargeNotes-24\\\\NOTEEVENTS-24253.txt',\n",
       " './DischargeNotes-24\\\\NOTEEVENTS-24263.txt',\n",
       " './DischargeNotes-24\\\\NOTEEVENTS-24264.txt',\n",
       " './DischargeNotes-24\\\\NOTEEVENTS-24266.txt',\n",
       " './DischargeNotes-24\\\\NOTEEVENTS-24268.txt',\n",
       " './DischargeNotes-24\\\\NOTEEVENTS-24269.txt',\n",
       " './DischargeNotes-24\\\\NOTEEVENTS-24282.txt',\n",
       " './DischargeNotes-24\\\\NOTEEVENTS-24286.txt',\n",
       " './DischargeNotes-24\\\\NOTEEVENTS-24292.txt',\n",
       " './DischargeNotes-24\\\\NOTEEVENTS-24294.txt',\n",
       " './DischargeNotes-24\\\\NOTEEVENTS-24295.txt',\n",
       " './DischargeNotes-24\\\\NOTEEVENTS-24312.txt',\n",
       " './DischargeNotes-24\\\\NOTEEVENTS-24322.txt',\n",
       " './DischargeNotes-24\\\\NOTEEVENTS-24325.txt',\n",
       " './DischargeNotes-24\\\\NOTEEVENTS-24326.txt',\n",
       " './DischargeNotes-24\\\\NOTEEVENTS-24332.txt',\n",
       " './DischargeNotes-24\\\\NOTEEVENTS-24334.txt',\n",
       " './DischargeNotes-24\\\\NOTEEVENTS-24351.txt',\n",
       " './DischargeNotes-24\\\\NOTEEVENTS-24352.txt',\n",
       " './DischargeNotes-24\\\\NOTEEVENTS-24354.txt',\n",
       " './DischargeNotes-24\\\\NOTEEVENTS-24356.txt',\n",
       " './DischargeNotes-24\\\\NOTEEVENTS-24357.txt',\n",
       " './DischargeNotes-24\\\\NOTEEVENTS-24368.txt',\n",
       " './DischargeNotes-24\\\\NOTEEVENTS-24369.txt',\n",
       " './DischargeNotes-24\\\\NOTEEVENTS-24372.txt',\n",
       " './DischargeNotes-24\\\\NOTEEVENTS-24381.txt',\n",
       " './DischargeNotes-24\\\\NOTEEVENTS-24389.txt',\n",
       " './DischargeNotes-24\\\\NOTEEVENTS-24390.txt',\n",
       " './DischargeNotes-24\\\\NOTEEVENTS-24396.txt',\n",
       " './DischargeNotes-24\\\\NOTEEVENTS-24407.txt',\n",
       " './DischargeNotes-24\\\\NOTEEVENTS-24411.txt',\n",
       " './DischargeNotes-24\\\\NOTEEVENTS-24414.txt',\n",
       " './DischargeNotes-24\\\\NOTEEVENTS-24423.txt',\n",
       " './DischargeNotes-24\\\\NOTEEVENTS-24427.txt',\n",
       " './DischargeNotes-24\\\\NOTEEVENTS-24431.txt',\n",
       " './DischargeNotes-24\\\\NOTEEVENTS-24435.txt',\n",
       " './DischargeNotes-24\\\\NOTEEVENTS-24436.txt',\n",
       " './DischargeNotes-24\\\\NOTEEVENTS-24452.txt',\n",
       " './DischargeNotes-24\\\\NOTEEVENTS-24459.txt',\n",
       " './DischargeNotes-24\\\\NOTEEVENTS-24464.txt',\n",
       " './DischargeNotes-24\\\\NOTEEVENTS-24466.txt',\n",
       " './DischargeNotes-24\\\\NOTEEVENTS-24470.txt',\n",
       " './DischargeNotes-24\\\\NOTEEVENTS-24475.txt',\n",
       " './DischargeNotes-24\\\\NOTEEVENTS-24483.txt',\n",
       " './DischargeNotes-24\\\\NOTEEVENTS-24494.txt',\n",
       " './DischargeNotes-24\\\\NOTEEVENTS-24553.txt',\n",
       " './DischargeNotes-24\\\\NOTEEVENTS-24556.txt',\n",
       " './DischargeNotes-24\\\\NOTEEVENTS-24569.txt',\n",
       " './DischargeNotes-24\\\\NOTEEVENTS-24579.txt',\n",
       " './DischargeNotes-24\\\\NOTEEVENTS-24580.txt',\n",
       " './DischargeNotes-24\\\\NOTEEVENTS-24581.txt',\n",
       " './DischargeNotes-24\\\\NOTEEVENTS-24582.txt',\n",
       " './DischargeNotes-24\\\\NOTEEVENTS-24591.txt',\n",
       " './DischargeNotes-24\\\\NOTEEVENTS-24592.txt',\n",
       " './DischargeNotes-24\\\\NOTEEVENTS-24593.txt',\n",
       " './DischargeNotes-24\\\\NOTEEVENTS-24595.txt',\n",
       " './DischargeNotes-24\\\\NOTEEVENTS-24603.txt',\n",
       " './DischargeNotes-24\\\\NOTEEVENTS-24605.txt',\n",
       " './DischargeNotes-24\\\\NOTEEVENTS-24612.txt',\n",
       " './DischargeNotes-24\\\\NOTEEVENTS-24614.txt',\n",
       " './DischargeNotes-24\\\\NOTEEVENTS-24619.txt',\n",
       " './DischargeNotes-24\\\\NOTEEVENTS-24624.txt',\n",
       " './DischargeNotes-24\\\\NOTEEVENTS-24626.txt',\n",
       " './DischargeNotes-24\\\\NOTEEVENTS-24631.txt',\n",
       " './DischargeNotes-24\\\\NOTEEVENTS-24633.txt',\n",
       " './DischargeNotes-24\\\\NOTEEVENTS-24638.txt',\n",
       " './DischargeNotes-24\\\\NOTEEVENTS-24641.txt',\n",
       " './DischargeNotes-24\\\\NOTEEVENTS-24653.txt',\n",
       " './DischargeNotes-24\\\\NOTEEVENTS-24655.txt',\n",
       " './DischargeNotes-24\\\\NOTEEVENTS-24674.txt',\n",
       " './DischargeNotes-24\\\\NOTEEVENTS-24675.txt',\n",
       " './DischargeNotes-24\\\\NOTEEVENTS-24676.txt',\n",
       " './DischargeNotes-24\\\\NOTEEVENTS-24691.txt',\n",
       " './DischargeNotes-24\\\\NOTEEVENTS-24694.txt',\n",
       " './DischargeNotes-24\\\\NOTEEVENTS-24697.txt',\n",
       " './DischargeNotes-24\\\\NOTEEVENTS-24703.txt',\n",
       " './DischargeNotes-24\\\\NOTEEVENTS-24718.txt',\n",
       " './DischargeNotes-24\\\\NOTEEVENTS-24723.txt',\n",
       " './DischargeNotes-24\\\\NOTEEVENTS-24730.txt',\n",
       " './DischargeNotes-24\\\\NOTEEVENTS-24734.txt',\n",
       " './DischargeNotes-24\\\\NOTEEVENTS-24751.txt',\n",
       " './DischargeNotes-24\\\\NOTEEVENTS-24756.txt',\n",
       " './DischargeNotes-24\\\\NOTEEVENTS-24762.txt',\n",
       " './DischargeNotes-24\\\\NOTEEVENTS-24769.txt',\n",
       " './DischargeNotes-24\\\\NOTEEVENTS-24790.txt',\n",
       " './DischargeNotes-24\\\\NOTEEVENTS-24797.txt',\n",
       " './DischargeNotes-24\\\\NOTEEVENTS-24807.txt',\n",
       " './DischargeNotes-24\\\\NOTEEVENTS-24823.txt',\n",
       " './DischargeNotes-24\\\\NOTEEVENTS-24835.txt',\n",
       " './DischargeNotes-24\\\\NOTEEVENTS-24837.txt',\n",
       " './DischargeNotes-24\\\\NOTEEVENTS-24846.txt',\n",
       " './DischargeNotes-24\\\\NOTEEVENTS-24851.txt',\n",
       " './DischargeNotes-24\\\\NOTEEVENTS-24852.txt',\n",
       " './DischargeNotes-24\\\\NOTEEVENTS-24858.txt',\n",
       " './DischargeNotes-24\\\\NOTEEVENTS-24870.txt',\n",
       " './DischargeNotes-24\\\\NOTEEVENTS-24881.txt',\n",
       " './DischargeNotes-24\\\\NOTEEVENTS-24882.txt',\n",
       " './DischargeNotes-24\\\\NOTEEVENTS-24891.txt',\n",
       " './DischargeNotes-24\\\\NOTEEVENTS-24896.txt',\n",
       " './DischargeNotes-24\\\\NOTEEVENTS-24900.txt',\n",
       " './DischargeNotes-24\\\\NOTEEVENTS-24902.txt',\n",
       " './DischargeNotes-24\\\\NOTEEVENTS-24907.txt',\n",
       " './DischargeNotes-24\\\\NOTEEVENTS-24912.txt',\n",
       " './DischargeNotes-24\\\\NOTEEVENTS-24914.txt',\n",
       " './DischargeNotes-24\\\\NOTEEVENTS-24915.txt',\n",
       " './DischargeNotes-24\\\\NOTEEVENTS-24923.txt',\n",
       " './DischargeNotes-24\\\\NOTEEVENTS-24924.txt',\n",
       " './DischargeNotes-24\\\\NOTEEVENTS-24933.txt',\n",
       " './DischargeNotes-24\\\\NOTEEVENTS-24935.txt',\n",
       " './DischargeNotes-24\\\\NOTEEVENTS-24956.txt',\n",
       " './DischargeNotes-24\\\\NOTEEVENTS-24957.txt',\n",
       " './DischargeNotes-24\\\\NOTEEVENTS-24964.txt',\n",
       " './DischargeNotes-24\\\\NOTEEVENTS-24966.txt',\n",
       " './DischargeNotes-24\\\\NOTEEVENTS-24978.txt',\n",
       " './DischargeNotes-24\\\\NOTEEVENTS-24988.txt',\n",
       " './DischargeNotes-24\\\\NOTEEVENTS-24993.txt']"
      ]
     },
     "execution_count": 3,
     "metadata": {},
     "output_type": "execute_result"
    }
   ],
   "source": [
    "files"
   ]
  },
  {
   "cell_type": "code",
   "execution_count": 6,
   "metadata": {},
   "outputs": [],
   "source": [
    "stringToMatch = 'Sex:'\n",
    "matchedLine = ''\n",
    "maleCount = 0\n",
    "femaleCount = 0\n",
    "noGenderCount = 0\n",
    "\n",
    "for file in files:\n",
    "    with open(file, \"r\") as f:\n",
    "        for line in f:\n",
    "            if stringToMatch in line:\n",
    "                matchedLine = line\n",
    "                gender = matchedLine.split(\"Sex:\", 1)[1]\n",
    "                if 'M' in gender:\n",
    "                    maleCount += 1\n",
    "                elif 'F' in gender:\n",
    "                    femaleCount += 1\n",
    "                else:\n",
    "                    noGenderCount += 1\n",
    "                break"
   ]
  },
  {
   "cell_type": "code",
   "execution_count": 8,
   "metadata": {},
   "outputs": [
    {
     "name": "stdout",
     "output_type": "stream",
     "text": [
      "Male: 82\n",
      "Female: 58\n",
      "Not listed: 3\n"
     ]
    }
   ],
   "source": [
    "print(\"Male: \" + str(maleCount))\n",
    "print(\"Female: \" + str(femaleCount))\n",
    "print(\"Not listed: \" + str(noGenderCount))\n",
    "\n",
    "dictionary = {'gender':['male', 'female', 'not listed'], 'count':[maleCount, femaleCount, noGenderCount]}\n",
    "\n",
    "df = pd.DataFrame(dictionary)"
   ]
  }
 ],
 "metadata": {
  "kernelspec": {
   "display_name": "Python 3",
   "language": "python",
   "name": "python3"
  },
  "language_info": {
   "codemirror_mode": {
    "name": "ipython",
    "version": 3
   },
   "file_extension": ".py",
   "mimetype": "text/x-python",
   "name": "python",
   "nbconvert_exporter": "python",
   "pygments_lexer": "ipython3",
   "version": "3.7.0"
  }
 },
 "nbformat": 4,
 "nbformat_minor": 2
}
