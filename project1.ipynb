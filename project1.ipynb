{
 "cells": [
  {
   "cell_type": "code",
   "execution_count": 25,
   "metadata": {},
   "outputs": [],
   "source": [
    "#import libraries\n",
    "import glob\n",
    "import pandas as pd\n",
    "import numpy as np "
   ]
  },
  {
   "cell_type": "markdown",
   "metadata": {},
   "source": [
    " ## (2) Analysis: \n",
    "\n",
    "A challenge for analysis of clinical data is that much of the data is in free text as in these notes. Thus, although there is a well-recognized standard terminology for coding of diagnosis and conditions (ICD-10), it can be challenging for a computer (or sometimes a human) to understand what diagnoses the patient has at time of discharge. Your \"simple\" analysis task, is to search through all of the discharge summaries of all of your patients (recall that not all patients have such a summary) and search for the terms following \"discharge diagnosis\". (If the patient dies in the hospital, there are no discharge diagnoses.) Then, produce a table that lists the most common discharge diagnoses among your patients. (E.g. \"Congestive heart failure -- 10 patients; Diabetes mellitus: 7 patients.....\"). Also include number of patients with discharge diagnoses, and the average number of diagnoses per patient.  For the highest grade, try to find and recognize some synonyms (e.g. \"afib\" is the same as \"atrial fibrillation\"). \n",
    "\n",
    "This analysis is a simple initial example of the sort of data analysis you will do in project 2. To help you learn the technologies for project 2, I am asking that you carry out this analysis with Python using Jupyter notebooks. We recommend that you install Anaconda as the easiest way to use both Jupyter and Python.  If you'd prefer to use R for project 1, that's okay, but project 2 will require Python. "
   ]
  },
  {
   "cell_type": "code",
   "execution_count": 14,
   "metadata": {},
   "outputs": [
    {
     "data": {
      "text/plain": [
       "153"
      ]
     },
     "execution_count": 14,
     "metadata": {},
     "output_type": "execute_result"
    }
   ],
   "source": [
    "#get list of all .txt files\n",
    "files = glob.glob('./DischargeNotes-24/*txt')\n",
    "#get number of files: 153\n",
    "len(files)"
   ]
  },
  {
   "cell_type": "code",
   "execution_count": 60,
   "metadata": {},
   "outputs": [],
   "source": [
    "# master list\n",
    "diagnoses = []\n",
    "#avg count of diagnoses per file\n",
    "avgdiag = []\n",
    "stripchars = '0123456789.'\n",
    "for file in files:\n",
    "    with open(file, \"r\") as f:\n",
    "        copy = False\n",
    "        diag = []\n",
    "        for line in f:\n",
    "            line = line.strip()\n",
    "            line = line.lstrip(stripchars)\n",
    "            line = line.strip()\n",
    "            if line == \"Discharge Diagnosis:\":\n",
    "                copy = True\n",
    "            elif not line:\n",
    "                copy = False\n",
    "            elif line == \"Discharge Condition:\":\n",
    "                copy = False\n",
    "            elif copy:\n",
    "                diag.append(line)\n",
    "        diagnoses.extend(diag)\n",
    "        avgdiag.append(len(diag))\n",
    "            "
   ]
  },
  {
   "cell_type": "code",
   "execution_count": 33,
   "metadata": {},
   "outputs": [
    {
     "data": {
      "text/plain": [
       "1.522875816993464"
      ]
     },
     "execution_count": 33,
     "metadata": {},
     "output_type": "execute_result"
    }
   ],
   "source": [
    "sum(avgdiag)/len(avgdiag)"
   ]
  },
  {
   "cell_type": "code",
   "execution_count": 61,
   "metadata": {},
   "outputs": [],
   "source": [
    "np_diag = np.array(diagnoses)\n",
    "np.diag = np.unique(np_diag)"
   ]
  },
  {
   "cell_type": "code",
   "execution_count": 109,
   "metadata": {},
   "outputs": [],
   "source": [
    "diagnoses2 = []\n",
    "for d in diagnoses: \n",
    "    d = d.replace('primary:', \"\")\n",
    "    d = d.replace('primary diagnoses:', \"\")\n",
    "    d = d.replace('primary', '')\n",
    "    d = d.replace('secondary:', '')\n",
    "    d = d.replace('na', '')\n",
    "    d = d.lower()\n",
    "    if d != '':\n",
    "        diagnoses2.append(d)"
   ]
  },
  {
   "cell_type": "code",
   "execution_count": 110,
   "metadata": {},
   "outputs": [],
   "source": [
    "del diagnoses2[6:8]"
   ]
  },
  {
   "cell_type": "code",
   "execution_count": 111,
   "metadata": {
    "scrolled": false
   },
   "outputs": [
    {
     "data": {
      "text/plain": [
       "['small cell lung cancer',\n",
       " 'sepsis',\n",
       " 'acute rel failure',\n",
       " 'respiratory failure',\n",
       " 'cad',\n",
       " 'mr',\n",
       " 'htn',\n",
       " 'copd',\n",
       " 'pvd',\n",
       " 'chronic pain',\n",
       " 'hypertensive urgency',\n",
       " 'encephalopathy, likely multifactorial including from',\n",
       " 'hypertension, dilantin overdose, seizure activity',\n",
       " 'dry gangrene of 2nd, 3rd digits on right hand, likely from',\n",
       " 'microvascular disease though concerning for embolic disease from',\n",
       " 'proximal vessels',\n",
       " 'diabetes mellitus, type ii',\n",
       " 'right lower leg amputation, from prior admission',\n",
       " 'anemia, normocytic',\n",
       " 'end-stage rel disease, hd-dependent',\n",
       " 'hiv/aids with cd4 51, vl >100,000; complicated by pcp',\n",
       " 'pneumonia in the past',\n",
       " 'dissemited mycobacterium avium-intracellulare complex',\n",
       " 'infection',\n",
       " 'chronic obstructive pulmory disease',\n",
       " 'history of alcohol abuse',\n",
       " 'myocardial infarction',\n",
       " 'v.fib arrest',\n",
       " 'testicular mass',\n",
       " 'lower gi bleed',\n",
       " 'primary:',\n",
       " 'traumatic subarachnoid hemmorhage.',\n",
       " 'intraparenchymal contusion/hemorrhage.',\n",
       " 'subdural hematoma.',\n",
       " 'left temporal bone fracture and hemotympanum',\n",
       " 'nstemi.',\n",
       " 'acute rel failure.',\n",
       " 'dysphagia.',\n",
       " 'aspiration pneumonia.',\n",
       " 'severe cervical spil stenosis.',\n",
       " 'diastolic heart failure.',\n",
       " 'mild aortic stenosis([**location (un) **] 1.2-1.9cm2).',\n",
       " '2+ mitral and tricuspid regurgitation.',\n",
       " 'primary diagnoses:',\n",
       " 'group b strep bacteremia, source unknown but likely [**1-9**] uti',\n",
       " 'delirium',\n",
       " 'systolic congestive heart failure, resolved',\n",
       " 'paroxysmal atrial fibrillation',\n",
       " 'bradycardia',\n",
       " 'small cell lung cancer',\n",
       " 'primary diagnosis:',\n",
       " 'community acquired pneumonia',\n",
       " 'uriry tract infection',\n",
       " 'multifocal atrial tachycardia',\n",
       " 'metastatic cancer, unknown ',\n",
       " 'altered mental status',\n",
       " 'lle necrotizing fasciitis',\n",
       " 'primary:',\n",
       " 'small bowel necrosis, treated with lysis of adheasions and small',\n",
       " 'bowel resection, c.diff colitis, uti, post iv-contrast',\n",
       " 'nephropathy, malnutrution',\n",
       " 'secondary:',\n",
       " 'a-fib, chf, dm, polycythemia [**doctor first name **], htn, hypothyroidism, chronic',\n",
       " 'rel insuff. incontinence',\n",
       " 'non hodkins lymphoma',\n",
       " 'atrial fibrillation',\n",
       " 'right pleural effusion',\n",
       " 'corory artery disease',\n",
       " 's/p motorcycle crash',\n",
       " 'right subarachnoid hemorrhage/intrparenchymal hemorrhage',\n",
       " 'temporal bone fracture',\n",
       " 'c5 vertebral fracture',\n",
       " 'left rib fracture',\n",
       " 'pneumatocele',\n",
       " 'respiratory failure requiring intubation [**3-5**] reaction to',\n",
       " 'fentanyl',\n",
       " 'labile hypertension',\n",
       " 'catheter associated uti',\n",
       " 'tracheobronchomalacia',\n",
       " 'copd',\n",
       " 'lyme meningitis',\n",
       " 'c5 radiculopathy',\n",
       " 'clostridium difficile colitis',\n",
       " 'heparin induced thrombocytopenia',\n",
       " 's/p breast cancer',\n",
       " 'type ii wenkebach a-v block',\n",
       " 'lower gib secondary to supratheraputic anticoagulation',\n",
       " 'respiratory failure',\n",
       " 'pna',\n",
       " 'sickle cell disease, previously transfusion dependent',\n",
       " 'cerebrovascular accident x 2 with residual aphasia, mild mental',\n",
       " 'retardation, plegia l>r.',\n",
       " 'chronic pain syndrome',\n",
       " 'chronic aspiration',\n",
       " 'aspiration pneumonia',\n",
       " 'absence seizure disorder',\n",
       " 'recurrent uti',\n",
       " 'chronic leukocytosis',\n",
       " 'stroke x2 in right coro radiata, 2004. has mild residual',\n",
       " 'left hand weakness per family. also with multiple other old',\n",
       " 'strokes on imaging.',\n",
       " 'htn',\n",
       " 'hypercholesterolemia',\n",
       " \"dementia, vascular vs mixed vascular/alzheimer's. seen by dr.\",\n",
       " 'cholangiocarcinoma',\n",
       " 'primary: total hip replacement for avascular necrosis',\n",
       " 'secondary: hypotension, corory artery disease, nstemi,',\n",
       " 'congestive heart failure, atrial fibrillation, right thigh/left',\n",
       " 'groin hematoma, anemia, myocbacterium avium complex, diarrhea',\n",
       " 'primary: respiratory failure',\n",
       " 'secondary: right lower lobe lung nodule, pulmory embolism,',\n",
       " 'ards, post-op hypoxia, hypertension, hypothyroidism',\n",
       " 'expired',\n",
       " 'intracerebral aneurysms s/p clipping',\n",
       " 'cerebral salt wasting (hypotremia)',\n",
       " 'bacteremia, high grade, tee neg for endocarditis',\n",
       " 'aspiration pneumonia',\n",
       " 'uti, enterobacter',\n",
       " 'intracerebral hemorrhage',\n",
       " 'acute lymphoid leukemia',\n",
       " 'multifocal aspiration pneumonia with sepsis',\n",
       " 'copd exacerbation',\n",
       " 'respiratory failure',\n",
       " 'charcot-[**doctor last name **]-tooth restrictve lung disease',\n",
       " 'squamous cell carcinoma, poorly differentiated with 1 out of 2',\n",
       " 'hilar lymph node (stage ii)',\n",
       " 'nstemi',\n",
       " 'death',\n",
       " 'ischemic bowel',\n",
       " 'c2 dens fracture',\n",
       " 'right hip fracture',\n",
       " 's/p rul, rml, and superior segment rll resection with chest',\n",
       " 'tubes',\n",
       " 'htn',\n",
       " 'a fib s/p conversion',\n",
       " 'central nervous system lymphoma',\n",
       " 'seizure disorder',\n",
       " 'chronic lymphocytic leukemia',\n",
       " 'cellulitis',\n",
       " 'uriry tract infection',\n",
       " 'na',\n",
       " 'pneumonia',\n",
       " 'lymphoma',\n",
       " 'acute rel failure',\n",
       " 'anion gap metabolic acidosis',\n",
       " 'biliary sepsis',\n",
       " 'deceased',\n",
       " 'not applicable; patient deceased.',\n",
       " 'expired',\n",
       " 'left frontal intraparenchymal hemorrhage',\n",
       " 'corory artery disease',\n",
       " 'congestive heart failure',\n",
       " 'history of rib contusion and fracture that was maged',\n",
       " 'conservatively.',\n",
       " 'hypertension.',\n",
       " 'noninsulin-dependent diabetes mellitus with peripheral',\n",
       " 'neuropathy.',\n",
       " 'peripheral vascular disease, status post right great toe',\n",
       " 'and third left toe amputation for osteomyelitis.',\n",
       " 'gout.',\n",
       " 'question of senile dementia.',\n",
       " 'history of falls.',\n",
       " 'atrial septal defect.',\n",
       " 'positive ppd in the past.',\n",
       " 'hypercholesterolemia.',\n",
       " 'b12 deficiency.',\n",
       " 'prior cva with residual left-sided weakness',\n",
       " 'hypertremia',\n",
       " 'uriry tract infection and sepsis',\n",
       " 'degenerative disc disease. acute rel failure.',\n",
       " 'hypotention secondary to ativan',\n",
       " 'htn',\n",
       " 'iddm',\n",
       " 'esrd',\n",
       " 'heel ulcer',\n",
       " 'bleeding gastric varices',\n",
       " 'alcoholism',\n",
       " 'hepatorel syndrome',\n",
       " 'left mca stroke',\n",
       " 'right facial paresis',\n",
       " 'dysarthria and tongue apraxia',\n",
       " 'uriry retention',\n",
       " 'uti',\n",
       " 'borderline dementia',\n",
       " 'septic shock',\n",
       " 'acute cholecystitis',\n",
       " 'cad  s/p cabg x5',\n",
       " 'nstemi',\n",
       " 'chf',\n",
       " 'bowel ischemia s/p colectomy/ileostomy/cholecystectomy',\n",
       " 'multi-system organ failure',\n",
       " 'retroperitoneal bleed',\n",
       " 'dic',\n",
       " 'htn',\n",
       " 'gerd',\n",
       " 'gastritis/duodel ulcer',\n",
       " 'anemia',\n",
       " 'elev. lipids',\n",
       " 'prior mi [**2880**]',\n",
       " 'primary:',\n",
       " 'respiratory failure',\n",
       " 'fever of unknown origin',\n",
       " 'acute tubular necrosis',\n",
       " 'critical illness neuropathy',\n",
       " 'myelodysplastic syndrome',\n",
       " 'atrial fibrillation',\n",
       " 'deceased',\n",
       " 'death from respiratory failure',\n",
       " 'post op anemia',\n",
       " 'post operative bleeding',\n",
       " 'syncope',\n",
       " 'paroxysmal a fib with conversion pauses',\n",
       " 's/p pacemaker placement',\n",
       " 'diabetes, poorly controlled',\n",
       " 'fever',\n",
       " 'hematuria',\n",
       " 'back pain',\n",
       " 'macular degeneration',\n",
       " 'osteoporosis',\n",
       " 'glaucoma',\n",
       " 'cardiogenic shock from acute mi',\n",
       " 'primary',\n",
       " 'alcoholic cirrhosis',\n",
       " 'coagulopathy',\n",
       " 'hypoalbuminemia']"
      ]
     },
     "execution_count": 111,
     "metadata": {},
     "output_type": "execute_result"
    }
   ],
   "source": [
    "diagnoses2"
   ]
  },
  {
   "cell_type": "code",
   "execution_count": 105,
   "metadata": {},
   "outputs": [
    {
     "data": {
      "text/plain": [
       "220"
      ]
     },
     "execution_count": 105,
     "metadata": {},
     "output_type": "execute_result"
    }
   ],
   "source": [
    "len(diagnoses2)"
   ]
  },
  {
   "cell_type": "code",
   "execution_count": 48,
   "metadata": {},
   "outputs": [
    {
     "data": {
      "text/plain": [
       "177"
      ]
     },
     "execution_count": 48,
     "metadata": {},
     "output_type": "execute_result"
    }
   ],
   "source": [
    "len(np_diag)"
   ]
  }
 ],
 "metadata": {
  "kernelspec": {
   "display_name": "Python 3",
   "language": "python",
   "name": "python3"
  },
  "language_info": {
   "codemirror_mode": {
    "name": "ipython",
    "version": 3
   },
   "file_extension": ".py",
   "mimetype": "text/x-python",
   "name": "python",
   "nbconvert_exporter": "python",
   "pygments_lexer": "ipython3",
   "version": "3.7.0"
  }
 },
 "nbformat": 4,
 "nbformat_minor": 2
}
